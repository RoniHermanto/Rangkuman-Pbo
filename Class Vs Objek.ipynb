{
 "cells": [
  {
   "cell_type": "markdown",
   "metadata": {},
   "source": [
    "   Class adalah template kode untuk membuat objek. Class berfungsi untuk menampung isi dari program yang akan di jalankan, di dalamnya berisi atribut / property dan method untuk objek yang akan di buat nantinya."
   ]
  },
  {
   "cell_type": "markdown",
   "metadata": {},
   "source": [
    "   Objek merupakan wujud dari class yang di buat tadi yang merisi property dan method yang di isikan pada saat membuat class tadi"
   ]
  },
  {
   "cell_type": "code",
   "execution_count": 4,
   "metadata": {},
   "outputs": [
    {
     "name": "stdout",
     "output_type": "stream",
     "text": [
      "5\n",
      "Luas : 25\n"
     ]
    }
   ],
   "source": [
    "class kubus:\n",
    "    def __init__(self,s):\n",
    "        self.sisi=s\n",
    "    def tampilkansisi(self):\n",
    "        print(self.sisi)\n",
    "    def luas(self):\n",
    "        print(\"Luas Kubus :\",self.sisi**2)\n",
    "\n",
    "a=kubus(5)\n",
    "a.tampilkansisi()\n",
    "a.luas()"
   ]
  }
 ],
 "metadata": {
  "kernelspec": {
   "display_name": "Python 3",
   "language": "python",
   "name": "python3"
  },
  "language_info": {
   "codemirror_mode": {
    "name": "ipython",
    "version": 3
   },
   "file_extension": ".py",
   "mimetype": "text/x-python",
   "name": "python",
   "nbconvert_exporter": "python",
   "pygments_lexer": "ipython3",
   "version": "3.6.5"
  }
 },
 "nbformat": 4,
 "nbformat_minor": 2
}
