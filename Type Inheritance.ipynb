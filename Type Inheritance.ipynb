{
 "cells": [
  {
   "cell_type": "markdown",
   "metadata": {},
   "source": [
    "Macam Macam Inheritance\n"
   ]
  },
  {
   "cell_type": "markdown",
   "metadata": {},
   "source": [
    "A. Default Inheritance"
   ]
  },
  {
   "cell_type": "markdown",
   "metadata": {},
   "source": [
    "   Default Inheritance Adalah Dimana Sub Class atau anak kelas memiliki Property dan method yang sama persis dengan method induknya tanpa mengubah Nilai atau Isi dari property ataupun method yang di peroleh dari induk class"
   ]
  },
  {
   "cell_type": "code",
   "execution_count": 2,
   "metadata": {},
   "outputs": [
    {
     "name": "stdout",
     "output_type": "stream",
     "text": [
      "Nama :Roni Hermanto\n",
      "Nim :160411100096\n",
      "Nama Saya Adalah: Roni Hermanto\n",
      "Nim Saya : 160411100096\n"
     ]
    }
   ],
   "source": [
    "class orang:\n",
    "    def __init__(self):\n",
    "        self.nama=input(\"Nama :\")\n",
    "        self.nim=int(input(\"Nim :\"))\n",
    "    def tampilkan(self):\n",
    "        print(\"Nama Saya Adalah:\",self.nama)\n",
    "        print(\"Nim :\", self.nim)\n",
    "class mahasiswa(orang):\n",
    "    def tampil(self):\n",
    "        print(\"Nama Saya Adalah:\",self.nama)\n",
    "        print(\"Nim Saya :\", self.nim)\n",
    "a=mahasiswa()\n",
    "a.tampil()\n"
   ]
  },
  {
   "cell_type": "markdown",
   "metadata": {},
   "source": [
    "B. Overiding \n",
    "    "
   ]
  },
  {
   "cell_type": "markdown",
   "metadata": {},
   "source": [
    "   Overiding adalah suatu kondisi saat induk class dan sub class memiliki method yang sama  dan juga memiliki properti yang sama dimana kelas anak dapat memodifikasi nilai property/method pada kelas induk sehingga properti dan method yang dia miliki akan meng overide atau menimpa properti atau method dari induk class"
   ]
  },
  {
   "cell_type": "code",
   "execution_count": 3,
   "metadata": {},
   "outputs": [
    {
     "name": "stdout",
     "output_type": "stream",
     "text": [
      "The shark cannot swim backwards, but can sink backwards.\n"
     ]
    }
   ],
   "source": [
    "class fish:\n",
    "    def __init__(self, first_name, last_name=\"fish\", skeleton=\"bone\", eyelids = False):\n",
    "        self.first_name = first_name\n",
    "        self.last_name = last_name\n",
    "        self.skeleton = skeleton\n",
    "        self.eyelids = eyelids\n",
    "    def swim(self):\n",
    "        print(\"The Fish is swimming.\")\n",
    "    def swim_backwards(self):\n",
    "        print(\"The fish can swim backwards.\")\n",
    "\n",
    "class shark(fish):\n",
    "    def __init__(self, first_name, last_name=\"Shark\", skeleton=\"cartilage\", eyelids = False):\n",
    "        self.first_name = first_name\n",
    "        self.last_name = last_name\n",
    "        self.skeleton = skeleton\n",
    "        self.eyelids = eyelids\n",
    "\n",
    "    def swim_backwards(self):\n",
    "        print(\"The shark cannot swim backwards, but can sink backwards.\")\n",
    "\n",
    "hiu = shark(\"Hiu Besar\")\n",
    "hiu.swim_backwards()\n"
   ]
  },
  {
   "cell_type": "markdown",
   "metadata": {},
   "source": [
    "C. Super"
   ]
  },
  {
   "cell_type": "markdown",
   "metadata": {},
   "source": [
    "   Super biasanya digunakan jika kita ingin menambahkan lagi sebuah properti di sub class yang belum ada pada induk class tanpa kita mengganti isi dari properti induk class"
   ]
  },
  {
   "cell_type": "code",
   "execution_count": 4,
   "metadata": {},
   "outputs": [
    {
     "name": "stdout",
     "output_type": "stream",
     "text": [
      "Nama Dosen : Drs. Slamet Sutjipto M.T.\t \n",
      "nip:19580501 198703 1001\n",
      "nidn:0001055805\n",
      "Nama karyawan  : Briana Simorangkir \n",
      "nip:19610211 199201 2001\n"
     ]
    }
   ],
   "source": [
    "class orang:\n",
    "  def __init__(self,nama):\n",
    "    self.nama=nama\n",
    "  def nama(Self):\n",
    "    return Self.nama\n",
    "class mahasiswa(orang):\n",
    "  def __init__(self,nama,npm,semester):\n",
    "    orang.__init__(self,nama)\n",
    "    self.npm=npm\n",
    "    self.semester=semester\n",
    "  def namamahasiswa(self):\n",
    "     print (\"Nama : %s \" % self.nama)\n",
    "     print (\"Npm :%s\" % self.npm)\n",
    "     print (\"Semester :%s\" % self.semester)\n",
    "class pegawai(orang):\n",
    "  def __init__(self,nama,nip):\n",
    "    orang.__init__(self,nama)\n",
    "    self.nip=nip\n",
    "  def namapegawai(Self):\n",
    "    print (\"Nama : %s \" % Self.nama)\n",
    "    print (\"nip:%s\" % Self.nip)\n",
    "class karyawan(pegawai):\n",
    "  def __init__(self,nama,nip):\n",
    "    pegawai.__init__(self,nama,nip)\n",
    "  def namakaryawan(self):\n",
    "    print (\"Nama karyawan  : %s \" % self.nama)\n",
    "    print (\"nip:%s\" % self.nip)\n",
    "class dosen(pegawai):\n",
    "  def __init__(self,nama,nip,nidn):\n",
    "    pegawai.__init__(self,nama,nip)\n",
    "    self.nidn=nidn\n",
    "  def namadosen(self):\n",
    "    print (\"Nama Dosen : %s \" % self.nama)\n",
    "    print (\"nip:%s\" % self.nip)\n",
    "    print (\"nidn:%s\" % self.nidn)\n",
    "    \n",
    "\n",
    "y = dosen(\"Drs. Slamet Sutjipto M.T.\t\",\"19580501 198703 1001\",\"0001055805\")\n",
    "z = karyawan(\"Briana Simorangkir\", \"19610211 199201 2001\")\n",
    "\n",
    "\n",
    "y.namadosen()\n",
    "z.namakaryawan()\n"
   ]
  },
  {
   "cell_type": "markdown",
   "metadata": {},
   "source": [
    "D. Multiple Inheritance"
   ]
  },
  {
   "cell_type": "markdown",
   "metadata": {},
   "source": [
    "   Multiple Inheritance merupakan suatu keadaan dimana subclass dapat mewarisi sebuah properti dan method lebih dari satu kelas induk"
   ]
  },
  {
   "cell_type": "code",
   "execution_count": 5,
   "metadata": {},
   "outputs": [
    {
     "name": "stdout",
     "output_type": "stream",
     "text": [
      "nama :roni\n",
      "NPM :10\n",
      "Nilai\n",
      "Math :100\n",
      "Biologi :90\n",
      "\n",
      "\n",
      "Name: roni\n",
      "NPM : 10\n",
      "Nilai : 190\n"
     ]
    }
   ],
   "source": [
    "class person:\n",
    "    def __init__(self):\n",
    "        self.name=input(\"Nama :\")\n",
    "    def display(self):\n",
    "        print(\"\\n\\nNama:\", self.name)\n",
    "class marks:\n",
    "    def __init__(self):\n",
    "        self.npm=input(\"NPM :\")\n",
    "        print(\"Nilai\")\n",
    "        self.math = int(input(\"Matematika :\"))\n",
    "        self.biology=int(input(\"Biologi :\"))\n",
    "\n",
    "    def display(self):\n",
    "        print(\"NPM :\",self.npm)\n",
    "        print(\"Nilai :\",self.math+self.biology)\n",
    "class student(person,marks):\n",
    "    def __init__(self):\n",
    "        person.__init__(self)\n",
    "        marks.__init__(self)\n",
    "\n",
    "    def result(self):\n",
    "        person.display(self)\n",
    "        marks.display(self)\n",
    "\n",
    "stu1= student()\n",
    "stu1.result()\n"
   ]
  }
 ],
 "metadata": {
  "kernelspec": {
   "display_name": "Python 3",
   "language": "python",
   "name": "python3"
  },
  "language_info": {
   "codemirror_mode": {
    "name": "ipython",
    "version": 3
   },
   "file_extension": ".py",
   "mimetype": "text/x-python",
   "name": "python",
   "nbconvert_exporter": "python",
   "pygments_lexer": "ipython3",
   "version": "3.6.5"
  }
 },
 "nbformat": 4,
 "nbformat_minor": 2
}
