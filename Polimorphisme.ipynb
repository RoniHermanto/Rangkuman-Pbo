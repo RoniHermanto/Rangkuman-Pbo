{
 "cells": [
  {
   "cell_type": "markdown",
   "metadata": {},
   "source": [
    "   Polymorphisme adalah konsep sederhana dalam pemrograman berorientasi objek yaitu kemampuan suatu variabel referensi objek untuk memiliki aksi yang berbeda bila method yang sama dipanggil."
   ]
  },
  {
   "cell_type": "code",
   "execution_count": 2,
   "metadata": {},
   "outputs": [
    {
     "name": "stdout",
     "output_type": "stream",
     "text": [
      "The shark is swimming.\n",
      "The clownfish is swimming.\n"
     ]
    }
   ],
   "source": [
    "class Shark(): \n",
    "    def swim(self): \n",
    "        print(\"The shark is swimming.\") \n",
    "    def swim_backwards(self): \n",
    "        print(\"The shark cannot swim backwards, but can sink backwards.\") \n",
    "    def skeleton(self): \n",
    "        print(\"The shark's skeleton is made of cartilage.\") \n",
    "\n",
    "class Clownfish(): \n",
    "    def swim(self): \n",
    "        print(\"The clownfish is swimming.\") \n",
    "    def swim_backwards(self): \n",
    "        print(\"The clownfish can swim backwards.\") \n",
    "    def skeleton(self): \n",
    "        print(\"The clownfish's skeleton is made of bone.\") \n",
    "def in_the_pacific(fish): \n",
    "    fish.swim() \n",
    "\n",
    "sammy = Shark() \n",
    "casey = Clownfish() \n",
    "\n",
    "in_the_pacific(sammy) \n",
    "in_the_pacific(casey) \n"
   ]
  }
 ],
 "metadata": {
  "kernelspec": {
   "display_name": "Python 3",
   "language": "python",
   "name": "python3"
  },
  "language_info": {
   "codemirror_mode": {
    "name": "ipython",
    "version": 3
   },
   "file_extension": ".py",
   "mimetype": "text/x-python",
   "name": "python",
   "nbconvert_exporter": "python",
   "pygments_lexer": "ipython3",
   "version": "3.6.5"
  }
 },
 "nbformat": 4,
 "nbformat_minor": 2
}
