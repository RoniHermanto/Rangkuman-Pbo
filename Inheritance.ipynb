{
 "cells": [
  {
   "cell_type": "markdown",
   "metadata": {},
   "source": [
    "Inheritance atau bisa di sebut juga dengan pewarisan atau penurunan sifat dimana sebuah class bisa menurunkan property atau method yang dimiliki kepada sub classnya dengan kata lain sub class bisa memiliki property maupun method dari class induknya "
   ]
  },
  {
   "cell_type": "code",
   "execution_count": 4,
   "metadata": {},
   "outputs": [
    {
     "name": "stdout",
     "output_type": "stream",
     "text": [
      "Nama :Roni Hermanto\n",
      "Nim :160411100096\n",
      "Nama Saya Adalah: Roni Hermanto\n",
      "Nim Saya Adalah : 160411100096\n"
     ]
    }
   ],
   "source": [
    "class orang:\n",
    "    def __init__(self):\n",
    "        self.nama=input(\"Nama :\")\n",
    "        self.nim=int(input(\"Nim :\"))\n",
    "    def tampilkan(self):\n",
    "        print(\"Nama Saya Adalah:\",self.nama)\n",
    "        print(\"Nim :\", self.nim)\n",
    "class mahasiswa(orang):\n",
    "    def tampil(self):\n",
    "        print(\"Nama Saya Adalah:\",self.nama)\n",
    "        print(\"Nim Saya Adalah :\", self.nim)\n",
    "a=mahasiswa()\n",
    "a.tampil()"
   ]
  },
  {
   "cell_type": "code",
   "execution_count": null,
   "metadata": {},
   "outputs": [],
   "source": []
  }
 ],
 "metadata": {
  "kernelspec": {
   "display_name": "Python 3",
   "language": "python",
   "name": "python3"
  },
  "language_info": {
   "codemirror_mode": {
    "name": "ipython",
    "version": 3
   },
   "file_extension": ".py",
   "mimetype": "text/x-python",
   "name": "python",
   "nbconvert_exporter": "python",
   "pygments_lexer": "ipython3",
   "version": "3.6.5"
  }
 },
 "nbformat": 4,
 "nbformat_minor": 2
}
