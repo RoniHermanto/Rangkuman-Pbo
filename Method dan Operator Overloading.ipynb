{
 "cells": [
  {
   "cell_type": "markdown",
   "metadata": {},
   "source": [
    "Method Overloading"
   ]
  },
  {
   "cell_type": "markdown",
   "metadata": {},
   "source": [
    "   Method Overloading merupakan salah satu konsep dalam pemrogramaan berorientasi objek dimana dalam suatu class terdapat method dengan nama yang sama namun tetapi memiliki berbagai fungsi yang berbeda, tergantung dari parameter yang digunakan."
   ]
  },
  {
   "cell_type": "code",
   "execution_count": 1,
   "metadata": {},
   "outputs": [
    {
     "name": "stdout",
     "output_type": "stream",
     "text": [
      "Hello \n",
      "Hello  Guido\n"
     ]
    }
   ],
   "source": [
    "class Human:\n",
    " \n",
    "    def sayHello(self, name=None):\n",
    " \n",
    "        if name is not None:\n",
    "            print ('Hello ',name)\n",
    "        else:\n",
    "            print ('Hello ')\n",
    " \n",
    "# Create instance\n",
    "obj = Human()\n",
    " \n",
    "# Call the method\n",
    "obj.sayHello()\n",
    " \n",
    "# Call the method with a parameter\n",
    "obj.sayHello('Guido')\n"
   ]
  },
  {
   "cell_type": "markdown",
   "metadata": {},
   "source": [
    "Operator Overloading"
   ]
  },
  {
   "cell_type": "markdown",
   "metadata": {},
   "source": [
    "Operator overloading merupakan penggunaan operator pada sebuah operasi diluar kebiasaan dengan menggunakan sebuah metode khusus"
   ]
  },
  {
   "cell_type": "code",
   "execution_count": 2,
   "metadata": {},
   "outputs": [
    {
     "name": "stdout",
     "output_type": "stream",
     "text": [
      "4\n",
      "5\n",
      "9\n"
     ]
    }
   ],
   "source": [
    "import math\n",
    " \n",
    "class Circle:\n",
    " \n",
    "    def __init__(self, radius):\n",
    "        self.__radius = radius\n",
    " \n",
    "    def setRadius(self, radius):\n",
    "        self.__radius = radius\n",
    " \n",
    "    def getRadius(self):\n",
    "        return self.__radius\n",
    " \n",
    "    def area(self):\n",
    "        return math.pi * self.__radius ** 2\n",
    " \n",
    "    def __add__(self, another_circle):\n",
    "        return Circle( self.__radius + another_circle.__radius )\n",
    " \n",
    "c1 = Circle(4)\n",
    "print(c1.getRadius())\n",
    " \n",
    "c2 = Circle(5)\n",
    "print(c2.getRadius())\n",
    " \n",
    "c3 = c1 + c2\n",
    "print(c3.getRadius())\n"
   ]
  }
 ],
 "metadata": {
  "kernelspec": {
   "display_name": "Python 3",
   "language": "python",
   "name": "python3"
  },
  "language_info": {
   "codemirror_mode": {
    "name": "ipython",
    "version": 3
   },
   "file_extension": ".py",
   "mimetype": "text/x-python",
   "name": "python",
   "nbconvert_exporter": "python",
   "pygments_lexer": "ipython3",
   "version": "3.6.5"
  }
 },
 "nbformat": 4,
 "nbformat_minor": 2
}
